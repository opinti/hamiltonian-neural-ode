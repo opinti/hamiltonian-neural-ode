{
 "cells": [
  {
   "cell_type": "markdown",
   "metadata": {},
   "source": [
    "# Crash Course on Classical Mechanics"
   ]
  },
  {
   "cell_type": "markdown",
   "metadata": {},
   "source": [
    "## Basics\n",
    "\n",
    "- **Cartesian coordinates** $ \\mathbf{x} = [x_1, x_2, \\dots] $ are the coordinates of a point in 2D or 3D space.\n",
    "\n",
    "- **Velocities** $ \\dot{\\mathbf{x}} = [\\dot{x}_1, \\dot{x}_2, \\dots] $ are the rate of change of coordinates with respect to time.\n",
    "\n",
    "- **Generalized coordinates** $ \\mathbf{q} = [q_1, q_2, \\dots] $ are a set of coordinates that completely defines the state of a system. These coordinates are not necessarily Cartesian, e.g. the angle between the rod and the vertical axis for a pendulum.\n",
    "\n",
    "- **Generalized velocities** $ \\dot{\\mathbf{q}} = [\\dot{q}_1, \\dot{q}_2, \\dots] $ are the rate of change of generalized coordinates with respect to time.\n",
    "\n",
    "- The **configuration space** of a system is the space where the generalized coordinates $ \\mathbf{q} $ live.\n",
    "\n",
    "- The **trajectory** of a system $ \\mathbf{q}(t) $ is the evolution of the generalized coordinates over time in the configuration space.\n"
   ]
  },
  {
   "cell_type": "markdown",
   "metadata": {},
   "source": [
    "## Lagrangian Mechanics\n",
    "\n",
    "- The **Lagrangian** $ \\mathcal{L}(\\mathbf{q}, \\dot{\\mathbf{q}}) $ is a function of the generalized coordinates and generalized velocities. It fully describes the dynamics of a system. The Lagrangian is defined as the difference between the kinetic and potential energy of the system.\n",
    "\n",
    "- The **action** $ \\mathcal{S} $ is a functional of the Lagrangian, defined as the integral of the Lagrangian over time:\n",
    "\n",
    "    $$\n",
    "    \\mathcal{S}\\{\\mathcal{L}(\\mathbf{q}, \\dot{\\mathbf{q}})\\} = \\int_{t_0}^{t_1} \\mathcal{L}(\\mathbf{q}(\\tau), \\dot{\\mathbf{q}}(\\tau)) \\mathrm{d}\\tau\n",
    "    $$\n",
    "\n",
    "- One of the cornerstones of Lagrangian mechanics is the **principle of least action**, which states that among all possible trajectories in the configuration space, the realized trajectory of the system is the one that minimizes the action, i.e. the trajectory that ensures $\\delta \\mathcal{S}=0$.\n",
    "\n",
    "- Setting $\\delta \\mathcal{S}=0$ yields a set of differential equations that the Lagrangian must satisfiy. These equations, which effectively govern the evolution of the system, are called **Euler-Lagrange equations**, and are:\n",
    "\n",
    "    $$\n",
    "    \\frac{\\mathrm{d}}{\\mathrm{d}t}\\left(\\frac{\\partial \\mathcal{L}}{\\partial \\dot{\\mathbf{q}}}\\right) - \\frac{\\partial \\mathcal{L}}{\\partial \\mathbf{q}} = 0\n",
    "    $$\n",
    "\n",
    "- **Generalized momenta** $ \\mathbf{p} = [p_1, p_2, \\dots] $ are defined as the partial derivatives of the Lagrangian with respect to the generalized velocities: \n",
    "    $$\n",
    "    \\mathbf{p} = \\frac{\\partial \\mathcal{L}}{\\partial \\dot{\\mathbf{q}}}\n",
    "    $$\n",
    "\n",
    "- Generalized coordinates and momenta $(\\mathbf{q}, \\mathbf{p})$ are also called **canonical coordinates**. \n",
    "\n",
    "- The change of coordintes from generalized to canonical  $(\\mathbf{q}, \\dot{\\mathbf{q}}) \\rightarrow (\\mathbf{q}, \\mathbf{p})$ is perfectly legitimate, as canonical coordinates also fully describe the state of a system. Interestingly, using canonical coordintes often proves to be advantegous. In that regards, we can write the Lagrangian in terms of canonical coordinates:\n",
    "\n",
    "    $$ \n",
    "    \\mathcal{L}(\\mathbf{q}, \\mathbf{p}) = \\mathcal{L}(\\mathbf{q}, \\dot{\\mathbf{q}}(\\mathbf{q}, \\mathbf{p}))\n",
    "    $$\n",
    "\n",
    "- The space where the canonical coordinates $(\\mathbf{q}(t), \\mathbf{p}(t))$ live is called **phase space**."
   ]
  },
  {
   "cell_type": "markdown",
   "metadata": {},
   "source": [
    "## Hamiltonian Mechanics\n",
    "\n",
    "- The **Hamiltonian** is defined as the _Legendre transform_ of the Lagrangian expressed in canonical coordinates with respect to the generalized momenta:\n",
    "  \n",
    "    $$\n",
    "    \\mathcal{H}(\\mathbf{q}, \\mathbf{p}) = \\mathbf{p} \\cdot \\dot{\\mathbf{q}}(\\mathbf{q}, \\mathbf{p}) - \\mathcal{L}(\\mathbf{q}, \\mathbf{p})\n",
    "    $$\n",
    "\n",
    "- The Hamiltonian also fully describes the dynamics of a system.\n",
    "\n",
    "- **Hamilton's equations** are a set of first-order differential equations that describe the evolution of the generalized coordinates and momenta over time. Hamilton's equations are:\n",
    "\n",
    "    $$\n",
    "    \\frac{\\mathrm{d} \\mathbf{q}}{\\mathrm{d} t} = \\frac{\\partial \\mathcal{H}}{\\partial \\mathbf{p}}\n",
    "    $$\n",
    "    \n",
    "    $$\n",
    "    \\frac{\\mathrm{d} \\mathbf{p}}{\\mathrm{d}t} = -\\frac{\\partial \\mathcal{H}}{\\partial \\mathbf{q}}\n",
    "    $$\n",
    "\n",
    "- The vector field defined over the phase space $\\bm{g}_{\\mathcal{H}}(\\mathbf{q}, \\, \\mathbf{p}) = \\left(\\frac{\\partial \\mathcal{H}}{\\partial \\mathbf{p}}, \\, -\\frac{\\partial \\mathcal{H}}{\\partial \\mathbf{q}} \\right)$ is also called a **symplectic gradient**. It represents the direction in  phase space along which a given function, in this case $\\mathcal{H}$, remains constant. \n",
    "\n",
    "- If the Lagrangian is not an explicit function of time (which we have silently assumed here), then the Hamiltonian is conserved:\n",
    "\n",
    "    $$\n",
    "    \\frac{\\mathrm{d} \\mathcal{H}}{\\mathrm{d}t} = \\frac{\\partial \\mathcal{H}}{\\partial \\mathbf{q}} \\dot{\\mathbf{q}} + \\frac{\\partial \\mathcal{H}}{\\partial \\mathbf{p}} \\dot{\\mathbf{p}} \\equiv0.\n",
    "    $$\n",
    "\n",
    "- Under certain conditions, the Hamiltonian corresponds to the total energy of the system.\n",
    "\n",
    "- **Liouville's theorem** states that if a system follows Hamilton's equations, then any region in the phase space $ \\mathcal{R} =\\{(\\mathbf{q}, \\mathbf{p}) \\, | \\, \\mathbf{q} \\in \\left[ \\mathbf{q}_0, \\mathbf{q}_0 +\\delta \\mathbf{q} \\right], \\mathbf{p} \\in \\left[\\mathbf{p}_0, \\mathbf{p}_0 +\\delta \\mathbf{p}\\right]\\}$ preserves its volume throughout its evolution, that is:\n",
    "\n",
    "    $$\n",
    "    \\frac{\\mathrm{d}}{\\mathrm{d} t} \\int_{\\mathcal{R}(t)} \\mathrm{d}\\mathbf{q} \\mathrm{d}\\mathbf{p} = 0\n",
    "    $$"
   ]
  }
 ],
 "metadata": {
  "language_info": {
   "name": "python"
  }
 },
 "nbformat": 4,
 "nbformat_minor": 2
}
